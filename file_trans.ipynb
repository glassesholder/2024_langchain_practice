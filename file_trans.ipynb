{
 "cells": [
  {
   "cell_type": "code",
   "execution_count": null,
   "metadata": {},
   "outputs": [],
   "source": [
    "## 필요한 패키지를 불러옵니다.\n",
    "from langchain.chat_models import ChatOpenAI\n",
    "from langchain.chains import AnalyzeDocumentChain\n",
    "from langchain.chains.question_answering import load_qa_chain\n",
    "from langchain_community.document_loaders import PyPDFDirectoryLoader\n",
    "from langchain_community.vectorstores import FAISS\n",
    "from langchain_community.vectorstores.utils import DistanceStrategy\n",
    "\n",
    "from langchain.embeddings.openai import OpenAIEmbeddings\n",
    "from langchain.text_splitter import RecursiveCharacterTextSplitter\n",
    "\n",
    "import os\n",
    "from dotenv import load_dotenv"
   ]
  },
  {
   "cell_type": "code",
   "execution_count": null,
   "metadata": {},
   "outputs": [],
   "source": [
    "## .env에 있는 보안(api_key) 키를 가져옵니다.\n",
    "load_dotenv()"
   ]
  },
  {
   "cell_type": "code",
   "execution_count": null,
   "metadata": {},
   "outputs": [],
   "source": [
    "## PDF 파일을 불러와 페이지 단위로 쪼갭니다.\n",
    "loader = PyPDFDirectoryLoader('./pdf/')\n",
    "raw_text = loader.load_and_split()"
   ]
  },
  {
   "cell_type": "code",
   "execution_count": null,
   "metadata": {},
   "outputs": [],
   "source": [
    "## 페이지가 잘 구분되었나 일부를 확인해봅니다.\n",
    "raw_text[:100]"
   ]
  },
  {
   "cell_type": "code",
   "execution_count": null,
   "metadata": {},
   "outputs": [],
   "source": [
    "## 페이지 단위로 쪼개진 문서를 더욱 작게 쪼개봅니다. 맥락 파악을 위해 겹치는 부분이 생기도록 합니다.\n",
    "def split_text(raw_text):\n",
    "    text_splitter = RecursiveCharacterTextSplitter.from_tiktoken_encoder(\n",
    "        chunk_size=500,\n",
    "        chunk_overlap=200,\n",
    "        encoding_name='cl100k_base'  \n",
    "    )\n",
    "\n",
    "    text = text_splitter.split_documents(raw_text)\n",
    "    return text\n",
    "\n",
    "\n",
    "texts = split_text(raw_text)"
   ]
  },
  {
   "cell_type": "code",
   "execution_count": null,
   "metadata": {},
   "outputs": [],
   "source": [
    "## 문서가 몇 개인지 살펴봅니다.\n",
    "len(texts)"
   ]
  },
  {
   "cell_type": "code",
   "execution_count": null,
   "metadata": {},
   "outputs": [],
   "source": [
    "## 5번째 문서만 봅니다. (0부터 시작하기 때문)\n",
    "texts[4]"
   ]
  },
  {
   "cell_type": "code",
   "execution_count": null,
   "metadata": {},
   "outputs": [],
   "source": [
    "## 여기서 과금이 시작됩니다. 여러분이 쪼개신 문서가 숫자로 바뀌어 저장소에 저장되는 작업이 OpenAI 회사를 통해 이루어집니다.\n",
    "embedding = OpenAIEmbeddings()\n",
    "vectorstore = FAISS.from_documents(\n",
    "    texts[:10], # 추후 전문을 추가할 때는 이 부분을 수정해주세요.\n",
    "    embedding=embedding,\n",
    "    distance_strategy=DistanceStrategy.COSINE # 코사인 유사도를 사용하여 문서를 비교합니다.\n",
    ")"
   ]
  },
  {
   "cell_type": "code",
   "execution_count": null,
   "metadata": {},
   "outputs": [],
   "source": [
    "## 저장소를 컴퓨터에 폴더로 저장합니다.\n",
    "vectorstore.save_local('./faiss_data')"
   ]
  }
 ],
 "metadata": {
  "kernelspec": {
   "display_name": "venv",
   "language": "python",
   "name": "python3"
  },
  "language_info": {
   "codemirror_mode": {
    "name": "ipython",
    "version": 3
   },
   "file_extension": ".py",
   "mimetype": "text/x-python",
   "name": "python",
   "nbconvert_exporter": "python",
   "pygments_lexer": "ipython3",
   "version": "3.10.0"
  }
 },
 "nbformat": 4,
 "nbformat_minor": 2
}
